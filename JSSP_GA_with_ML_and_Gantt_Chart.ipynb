{
 "cells": [
  {
   "cell_type": "markdown",
   "id": "b9494500",
   "metadata": {},
   "source": [
    "# Genetic Algorithm for Job-Shop Scheduling Problem (JSSP)"
   ]
  },
  {
   "cell_type": "markdown",
   "id": "13abe27f",
   "metadata": {},
   "source": [
    "This notebook demonstrates the implementation of a Genetic Algorithm (GA) for solving a Job-Shop Scheduling Problem using the provided dataset, including graphical visualization with a Gantt chart."
   ]
  },
  {
   "cell_type": "code",
   "execution_count": 1,
   "id": "2cd2ca94",
   "metadata": {},
   "outputs": [
    {
     "data": {
      "text/plain": [
       "array([[7, 4, 8, 5, 7, 3, 7, 8, 5, 4],\n",
       "       [8, 8, 3, 6, 5, 2, 8, 6, 2, 5],\n",
       "       [1, 6, 9, 1, 3, 7, 4, 9, 3, 5],\n",
       "       [3, 7, 5, 9, 7, 2, 4, 9, 2, 9],\n",
       "       [5, 2, 4, 7, 8, 3, 1, 4, 2, 8],\n",
       "       [4, 2, 6, 6, 4, 6, 2, 2, 4, 8],\n",
       "       [7, 9, 8, 5, 2, 5, 8, 9, 9, 1],\n",
       "       [9, 7, 9, 8, 1, 8, 8, 3, 1, 8],\n",
       "       [3, 3, 1, 5, 7, 9, 7, 9, 8, 2],\n",
       "       [1, 7, 7, 8, 5, 3, 8, 6, 3, 1]], dtype=int32)"
      ]
     },
     "execution_count": 1,
     "metadata": {},
     "output_type": "execute_result"
    }
   ],
   "source": [
    "import pandas as pd\n",
    "import numpy as np\n",
    "import random\n",
    "import matplotlib.pyplot as plt\n",
    "\n",
    "# Load the dataset\n",
    "dataset_path = \"D:\\\\IIT\\\\Subjects\\(4601)Computational Inteligence\\\\CW\\\\Implementation\\\\DataSet\\\\instances_with_bks.csv\"\n",
    "jssp_data = pd.read_csv(dataset_path)\n",
    "\n",
    "# Select a specific instance from the dataset for demonstration\n",
    "selected_instance = jssp_data.iloc[0]  # Choosing the first instance as an example\n",
    "\n",
    "# Extract the number of jobs and machines from the instance\n",
    "jobs = selected_instance['inst.jobs']\n",
    "machines = selected_instance['inst.machines']\n",
    "\n",
    "# Simulate a processing times matrix for the instance\n",
    "# Generating random processing times as a placeholder\n",
    "np.random.seed(42)  # Seed for reproducibility\n",
    "processing_times = np.random.randint(1, 10, size=(jobs, machines))\n",
    "processing_times\n"
   ]
  },
  {
   "cell_type": "markdown",
   "id": "7abba5e4",
   "metadata": {},
   "source": [
    "### Step 1: Define Genetic Algorithm Components"
   ]
  },
  {
   "cell_type": "code",
   "execution_count": 2,
   "id": "353ba41e",
   "metadata": {},
   "outputs": [],
   "source": [
    "def initialize_population(pop_size, jobs, machines):\n",
    "    population = []\n",
    "    for _ in range(pop_size):\n",
    "        chromosome = []\n",
    "        for job in range(jobs):\n",
    "            for machine in range(machines):\n",
    "                chromosome.append((job, machine))\n",
    "        random.shuffle(chromosome)  # Shuffle to create a random sequence\n",
    "        population.append(chromosome)\n",
    "    return population\n",
    "\n",
    "def calculate_schedule(chromosome, jobs, machines, processing_times):\n",
    "    machine_times = [0] * machines\n",
    "    job_times = [0] * jobs\n",
    "    schedule = []\n",
    "\n",
    "    for job, machine in chromosome:\n",
    "        start_time = max(job_times[job], machine_times[machine])\n",
    "        end_time = start_time + processing_times[job][machine]\n",
    "        machine_times[machine] = end_time\n",
    "        job_times[job] = end_time\n",
    "        schedule.append((job, machine, start_time, end_time))\n",
    "\n",
    "    makespan = max(machine_times)\n",
    "    return makespan, schedule\n",
    "\n",
    "def fitness_function(chromosome, jobs, machines, processing_times):\n",
    "    makespan, _ = calculate_schedule(chromosome, jobs, machines, processing_times)\n",
    "    return 1 / makespan  # Fitness is inversely proportional to makespan\n",
    "\n",
    "def crossover(parent1, parent2):\n",
    "    split = len(parent1) // 2\n",
    "    child = parent1[:split] + parent2[split:]\n",
    "    return child\n",
    "\n",
    "def mutate(chromosome):\n",
    "    idx1, idx2 = random.sample(range(len(chromosome)), 2)\n",
    "    chromosome[idx1], chromosome[idx2] = chromosome[idx2], chromosome[idx1]\n",
    "    return chromosome\n"
   ]
  },
  {
   "cell_type": "markdown",
   "id": "90d29a77",
   "metadata": {},
   "source": [
    "### Step 2: Run the Genetic Algorithm"
   ]
  },
  {
   "cell_type": "code",
   "execution_count": 3,
   "id": "b24656d9",
   "metadata": {},
   "outputs": [
    {
     "name": "stdout",
     "output_type": "stream",
     "text": [
      "Best Makespan: 116\n"
     ]
    },
    {
     "data": {
      "text/plain": [
       "[(0, 8, 0, np.int32(5)),\n",
       " (0, 1, np.int32(5), np.int32(9)),\n",
       " (3, 7, 0, np.int32(9)),\n",
       " (2, 4, 0, np.int32(3)),\n",
       " (4, 8, np.int32(5), np.int32(7)),\n",
       " (0, 0, np.int32(9), np.int32(16)),\n",
       " (9, 5, 0, np.int32(3)),\n",
       " (5, 3, 0, np.int32(6)),\n",
       " (1, 4, np.int32(3), np.int32(8)),\n",
       " (7, 0, np.int32(16), np.int32(25)),\n",
       " (0, 7, np.int32(16), np.int32(24)),\n",
       " (2, 3, np.int32(6), np.int32(7)),\n",
       " (1, 8, np.int32(8), np.int32(10)),\n",
       " (4, 7, np.int32(24), np.int32(28)),\n",
       " (2, 2, np.int32(7), np.int32(16)),\n",
       " (6, 6, 0, np.int32(8)),\n",
       " (5, 1, np.int32(9), np.int32(11)),\n",
       " (1, 9, np.int32(10), np.int32(15)),\n",
       " (0, 4, np.int32(24), np.int32(31)),\n",
       " (8, 5, np.int32(3), np.int32(12)),\n",
       " (8, 3, np.int32(12), np.int32(17)),\n",
       " (3, 8, np.int32(10), np.int32(12)),\n",
       " (8, 1, np.int32(17), np.int32(20)),\n",
       " (4, 4, np.int32(31), np.int32(39)),\n",
       " (7, 5, np.int32(25), np.int32(33)),\n",
       " (7, 4, np.int32(39), np.int32(40)),\n",
       " (8, 8, np.int32(20), np.int32(28)),\n",
       " (0, 5, np.int32(33), np.int32(36)),\n",
       " (5, 8, np.int32(28), np.int32(32)),\n",
       " (8, 0, np.int32(28), np.int32(31)),\n",
       " (7, 3, np.int32(40), np.int32(48)),\n",
       " (6, 0, np.int32(31), np.int32(38)),\n",
       " (8, 7, np.int32(31), np.int32(40)),\n",
       " (6, 9, np.int32(38), np.int32(39)),\n",
       " (2, 1, np.int32(20), np.int32(26)),\n",
       " (4, 9, np.int32(39), np.int32(47)),\n",
       " (3, 2, np.int32(16), np.int32(21)),\n",
       " (2, 9, np.int32(47), np.int32(52)),\n",
       " (8, 6, np.int32(40), np.int32(47)),\n",
       " (2, 5, np.int32(52), np.int32(59)),\n",
       " (5, 5, np.int32(59), np.int32(65)),\n",
       " (1, 6, np.int32(47), np.int32(55)),\n",
       " (4, 3, np.int32(48), np.int32(55)),\n",
       " (0, 3, np.int32(55), np.int32(60)),\n",
       " (3, 4, np.int32(40), np.int32(47)),\n",
       " (7, 7, np.int32(48), np.int32(51)),\n",
       " (6, 1, np.int32(39), np.int32(48)),\n",
       " (5, 4, np.int32(65), np.int32(69)),\n",
       " (0, 9, np.int32(60), np.int32(64)),\n",
       " (8, 2, np.int32(47), np.int32(48)),\n",
       " (0, 9, np.int32(64), np.int32(68)),\n",
       " (4, 7, np.int32(55), np.int32(59)),\n",
       " (1, 2, np.int32(55), np.int32(58)),\n",
       " (8, 7, np.int32(59), np.int32(68)),\n",
       " (2, 5, np.int32(65), np.int32(72)),\n",
       " (0, 5, np.int32(72), np.int32(75)),\n",
       " (7, 6, np.int32(55), np.int32(63)),\n",
       " (3, 0, np.int32(47), np.int32(50)),\n",
       " (5, 4, np.int32(69), np.int32(73)),\n",
       " (4, 1, np.int32(59), np.int32(61)),\n",
       " (6, 8, np.int32(48), np.int32(57)),\n",
       " (2, 9, np.int32(72), np.int32(77)),\n",
       " (7, 3, np.int32(63), np.int32(71)),\n",
       " (1, 0, np.int32(58), np.int32(66)),\n",
       " (3, 3, np.int32(71), np.int32(80)),\n",
       " (5, 5, np.int32(75), np.int32(81)),\n",
       " (8, 6, np.int32(68), np.int32(75)),\n",
       " (7, 0, np.int32(71), np.int32(80)),\n",
       " (1, 6, np.int32(75), np.int32(83)),\n",
       " (2, 8, np.int32(77), np.int32(80)),\n",
       " (0, 6, np.int32(83), np.int32(90)),\n",
       " (3, 1, np.int32(80), np.int32(87)),\n",
       " (6, 0, np.int32(80), np.int32(87)),\n",
       " (3, 7, np.int32(87), np.int32(96)),\n",
       " (1, 3, np.int32(83), np.int32(89)),\n",
       " (4, 5, np.int32(81), np.int32(84)),\n",
       " (6, 1, np.int32(87), np.int32(96)),\n",
       " (5, 0, np.int32(87), np.int32(91)),\n",
       " (2, 4, np.int32(80), np.int32(83)),\n",
       " (3, 4, np.int32(96), np.int32(103)),\n",
       " (4, 9, np.int32(84), np.int32(92)),\n",
       " (9, 6, np.int32(90), np.int32(98)),\n",
       " (4, 8, np.int32(92), np.int32(94)),\n",
       " (0, 3, np.int32(90), np.int32(95)),\n",
       " (4, 4, np.int32(103), np.int32(111)),\n",
       " (5, 7, np.int32(96), np.int32(98)),\n",
       " (0, 1, np.int32(96), np.int32(100)),\n",
       " (8, 3, np.int32(95), np.int32(100)),\n",
       " (0, 2, np.int32(100), np.int32(108)),\n",
       " (9, 8, np.int32(98), np.int32(101)),\n",
       " (8, 8, np.int32(101), np.int32(109)),\n",
       " (6, 3, np.int32(100), np.int32(105)),\n",
       " (4, 0, np.int32(111), np.int32(116)),\n",
       " (5, 1, np.int32(100), np.int32(102)),\n",
       " (0, 7, np.int32(108), np.int32(116)),\n",
       " (1, 1, np.int32(102), np.int32(110)),\n",
       " (9, 4, np.int32(111), np.int32(116)),\n",
       " (6, 6, np.int32(105), np.int32(113)),\n",
       " (7, 8, np.int32(109), np.int32(110)),\n",
       " (2, 1, np.int32(110), np.int32(116))]"
      ]
     },
     "execution_count": 3,
     "metadata": {},
     "output_type": "execute_result"
    }
   ],
   "source": [
    "def genetic_algorithm(pop_size, generations, jobs, machines, processing_times):\n",
    "    population = initialize_population(pop_size, jobs, machines)\n",
    "\n",
    "    for gen in range(generations):\n",
    "        population = sorted(population, key=lambda x: fitness_function(x, jobs, machines, processing_times), reverse=True)\n",
    "        next_gen = population[:pop_size // 2]  # Select top half\n",
    "\n",
    "        # Crossover and Mutation\n",
    "        while len(next_gen) < pop_size:\n",
    "            parent1, parent2 = random.sample(next_gen, 2)\n",
    "            child = crossover(parent1, parent2)\n",
    "            if random.random() < 0.1:  # Mutation probability\n",
    "                child = mutate(child)\n",
    "            next_gen.append(child)\n",
    "\n",
    "        population = next_gen\n",
    "\n",
    "    # Return the best solution\n",
    "    best_chromosome = population[0]\n",
    "    best_makespan, best_schedule = calculate_schedule(best_chromosome, jobs, machines, processing_times)\n",
    "    return best_chromosome, best_makespan, best_schedule\n",
    "\n",
    "# Run the Genetic Algorithm\n",
    "best_solution, best_makespan, best_schedule = genetic_algorithm(\n",
    "    pop_size=20,\n",
    "    generations=50,\n",
    "    jobs=jobs,\n",
    "    machines=machines,\n",
    "    processing_times=processing_times\n",
    ")\n",
    "\n",
    "print(\"Best Makespan:\", best_makespan)\n",
    "best_schedule\n"
   ]
  },
  {
   "cell_type": "markdown",
   "id": "9a02e486",
   "metadata": {},
   "source": [
    "### Step 3: Visualize the Results with a Gantt Chart"
   ]
  },
  {
   "cell_type": "code",
   "execution_count": 4,
   "id": "3d225b22",
   "metadata": {},
   "outputs": [
    {
     "data": {
      "image/png": "[encoded data removed]",
      "text/plain": [
       "<Figure size 1000x600 with 1 Axes>"
      ]
     },
     "metadata": {},
     "output_type": "display_data"
    }
   ],
   "source": [
    "# Plot Gantt Chart\n",
    "fig, ax = plt.subplots(figsize=(10, 6))\n",
    "\n",
    "for job, machine, start, end in best_schedule:\n",
    "    ax.broken_barh([(start, end - start)], (machine * 10, 9), facecolors=f'C{job}')\n",
    "\n",
    "ax.set_xlabel('Time')\n",
    "ax.set_ylabel('Machine')\n",
    "ax.set_yticks([i * 10 + 5 for i in range(machines)])\n",
    "ax.set_yticklabels([f'Machine {i}' for i in range(machines)])\n",
    "ax.set_title('Gantt Chart for Job-Shop Schedule')\n",
    "plt.show()\n"
   ]
  },
  {
   "cell_type": "markdown",
   "id": "4d27a538",
   "metadata": {},
   "source": [
    "### Step 4: Integrating Machine Learning for Makespan Prediction"
   ]
  },
  {
   "cell_type": "code",
   "execution_count": 5,
   "id": "52036025",
   "metadata": {},
   "outputs": [
    {
     "name": "stdout",
     "output_type": "stream",
     "text": [
      "Mean Absolute Error: 12.282699999999998\n"
     ]
    }
   ],
   "source": [
    "from sklearn.ensemble import RandomForestRegressor\n",
    "from sklearn.model_selection import train_test_split\n",
    "from sklearn.metrics import mean_absolute_error\n",
    "\n",
    "# Generate synthetic data for training (features: chromosome, target: makespan)\n",
    "def generate_training_data(num_samples, jobs, machines, processing_times):\n",
    "    data = []\n",
    "    for _ in range(num_samples):\n",
    "        chromosome = initialize_population(1, jobs, machines)[0]\n",
    "        makespan, _ = calculate_schedule(chromosome, jobs, machines, processing_times)\n",
    "        flattened_chromosome = [job * machines + machine for job, machine in chromosome]  # Flatten the chromosome\n",
    "        data.append((flattened_chromosome, makespan))\n",
    "    return data\n",
    "\n",
    "# Generate synthetic training data\n",
    "training_data = generate_training_data(500, jobs, machines, processing_times)\n",
    "X = [item[0] for item in training_data]  # Features: Chromosomes\n",
    "y = [item[1] for item in training_data]  # Target: Makespan\n",
    "\n",
    "# Split data into training and test sets\n",
    "X_train, X_test, y_train, y_test = train_test_split(X, y, test_size=0.2, random_state=42)\n",
    "\n",
    "# Train a Random Forest Regressor\n",
    "model = RandomForestRegressor(n_estimators=100, random_state=42)\n",
    "model.fit(X_train, y_train)\n",
    "\n",
    "# Evaluate the model\n",
    "y_pred = model.predict(X_test)\n",
    "print(\"Mean Absolute Error:\", mean_absolute_error(y_test, y_pred))\n",
    "    "
   ]
  },
  {
   "cell_type": "markdown",
   "id": "f31f9f97",
   "metadata": {},
   "source": [
    "### Step 5: Using ML Model for Makespan Prediction in GA"
   ]
  },
  {
   "cell_type": "code",
   "execution_count": 6,
   "id": "6873c65d",
   "metadata": {},
   "outputs": [
    {
     "name": "stdout",
     "output_type": "stream",
     "text": [
      "Best Makespan with ML: 173\n"
     ]
    },
    {
     "data": {
      "text/plain": [
       "[(3, 5, 0, np.int32(2)),\n",
       " (1, 1, 0, np.int32(8)),\n",
       " (4, 5, np.int32(2), np.int32(5)),\n",
       " (6, 1, np.int32(8), np.int32(17)),\n",
       " (4, 9, np.int32(5), np.int32(13)),\n",
       " (8, 0, 0, np.int32(3)),\n",
       " (5, 0, np.int32(3), np.int32(7)),\n",
       " (1, 5, np.int32(8), np.int32(10)),\n",
       " (9, 1, np.int32(17), np.int32(24)),\n",
       " (6, 7, np.int32(17), np.int32(26)),\n",
       " (6, 1, np.int32(26), np.int32(35)),\n",
       " (3, 6, np.int32(2), np.int32(6)),\n",
       " (0, 5, np.int32(10), np.int32(13)),\n",
       " (6, 8, np.int32(35), np.int32(44)),\n",
       " (7, 6, np.int32(6), np.int32(14)),\n",
       " (4, 3, np.int32(13), np.int32(20)),\n",
       " (7, 2, np.int32(14), np.int32(23)),\n",
       " (0, 6, np.int32(14), np.int32(21)),\n",
       " (6, 5, np.int32(44), np.int32(49)),\n",
       " (6, 2, np.int32(49), np.int32(57)),\n",
       " (3, 4, np.int32(6), np.int32(13)),\n",
       " (3, 9, np.int32(13), np.int32(22)),\n",
       " (8, 9, np.int32(22), np.int32(24)),\n",
       " (8, 5, np.int32(49), np.int32(58)),\n",
       " (0, 8, np.int32(44), np.int32(49)),\n",
       " (9, 8, np.int32(49), np.int32(52)),\n",
       " (7, 7, np.int32(26), np.int32(29)),\n",
       " (6, 7, np.int32(57), np.int32(66)),\n",
       " (2, 9, np.int32(24), np.int32(29)),\n",
       " (4, 4, np.int32(20), np.int32(28)),\n",
       " (8, 2, np.int32(58), np.int32(59)),\n",
       " (5, 5, np.int32(58), np.int32(64)),\n",
       " (4, 0, np.int32(28), np.int32(33)),\n",
       " (3, 7, np.int32(66), np.int32(75)),\n",
       " (5, 7, np.int32(75), np.int32(77)),\n",
       " (0, 0, np.int32(49), np.int32(56)),\n",
       " (6, 7, np.int32(77), np.int32(86)),\n",
       " (9, 1, np.int32(52), np.int32(59)),\n",
       " (6, 0, np.int32(86), np.int32(93)),\n",
       " (6, 4, np.int32(93), np.int32(95)),\n",
       " (0, 1, np.int32(59), np.int32(63)),\n",
       " (5, 4, np.int32(95), np.int32(99)),\n",
       " (8, 4, np.int32(99), np.int32(106)),\n",
       " (1, 7, np.int32(86), np.int32(92)),\n",
       " (4, 7, np.int32(92), np.int32(96)),\n",
       " (2, 4, np.int32(106), np.int32(109)),\n",
       " (4, 6, np.int32(96), np.int32(97)),\n",
       " (0, 3, np.int32(63), np.int32(68)),\n",
       " (5, 9, np.int32(99), np.int32(107)),\n",
       " (8, 6, np.int32(106), np.int32(113)),\n",
       " (7, 8, np.int32(52), np.int32(53)),\n",
       " (9, 7, np.int32(96), np.int32(102)),\n",
       " (1, 5, np.int32(92), np.int32(94)),\n",
       " (8, 3, np.int32(113), np.int32(118)),\n",
       " (9, 3, np.int32(118), np.int32(126)),\n",
       " (9, 3, np.int32(126), np.int32(134)),\n",
       " (4, 7, np.int32(102), np.int32(106)),\n",
       " (0, 7, np.int32(106), np.int32(114)),\n",
       " (7, 0, np.int32(93), np.int32(102)),\n",
       " (8, 8, np.int32(118), np.int32(126)),\n",
       " (3, 2, np.int32(75), np.int32(80)),\n",
       " (2, 1, np.int32(109), np.int32(115)),\n",
       " (3, 8, np.int32(126), np.int32(128)),\n",
       " (4, 1, np.int32(115), np.int32(117)),\n",
       " (9, 1, np.int32(134), np.int32(141)),\n",
       " (6, 3, np.int32(134), np.int32(139)),\n",
       " (6, 9, np.int32(139), np.int32(140)),\n",
       " (5, 6, np.int32(113), np.int32(115)),\n",
       " (2, 2, np.int32(115), np.int32(124)),\n",
       " (8, 6, np.int32(126), np.int32(133)),\n",
       " (6, 2, np.int32(140), np.int32(148)),\n",
       " (3, 5, np.int32(128), np.int32(130)),\n",
       " (2, 6, np.int32(133), np.int32(137)),\n",
       " (1, 2, np.int32(148), np.int32(151)),\n",
       " (7, 9, np.int32(140), np.int32(148)),\n",
       " (5, 0, np.int32(115), np.int32(119)),\n",
       " (2, 8, np.int32(137), np.int32(140)),\n",
       " (5, 3, np.int32(139), np.int32(145)),\n",
       " (8, 5, np.int32(133), np.int32(142)),\n",
       " (3, 0, np.int32(130), np.int32(133)),\n",
       " (4, 8, np.int32(140), np.int32(142)),\n",
       " (2, 3, np.int32(145), np.int32(146)),\n",
       " (9, 5, np.int32(142), np.int32(145)),\n",
       " (9, 6, np.int32(145), np.int32(153)),\n",
       " (9, 8, np.int32(153), np.int32(156)),\n",
       " (6, 1, np.int32(148), np.int32(157)),\n",
       " (8, 2, np.int32(151), np.int32(152)),\n",
       " (8, 7, np.int32(152), np.int32(161)),\n",
       " (4, 9, np.int32(148), np.int32(156)),\n",
       " (7, 7, np.int32(161), np.int32(164)),\n",
       " (5, 4, np.int32(145), np.int32(149)),\n",
       " (1, 6, np.int32(153), np.int32(161)),\n",
       " (7, 3, np.int32(164), np.int32(172)),\n",
       " (3, 7, np.int32(164), np.int32(173)),\n",
       " (9, 4, np.int32(156), np.int32(161)),\n",
       " (0, 5, np.int32(145), np.int32(148)),\n",
       " (0, 9, np.int32(156), np.int32(160)),\n",
       " (7, 4, np.int32(172), np.int32(173)),\n",
       " (0, 1, np.int32(160), np.int32(164)),\n",
       " (5, 5, np.int32(149), np.int32(155))]"
      ]
     },
     "execution_count": 6,
     "metadata": {},
     "output_type": "execute_result"
    }
   ],
   "source": [
    "def ml_fitness_function(chromosome, model, jobs, machines):\n",
    "    # Flatten the chromosome for prediction\n",
    "    flattened_chromosome = [job * machines + machine for job, machine in chromosome]\n",
    "    predicted_makespan = model.predict([flattened_chromosome])[0]\n",
    "    return 1 / predicted_makespan  # Fitness is inversely proportional to predicted makespan\n",
    "\n",
    "def genetic_algorithm_with_ml(pop_size, generations, jobs, machines, processing_times, model):\n",
    "    population = initialize_population(pop_size, jobs, machines)\n",
    "\n",
    "    for gen in range(generations):\n",
    "        population = sorted(population, key=lambda x: ml_fitness_function(x, model, jobs, machines), reverse=True)\n",
    "        next_gen = population[:pop_size // 2]  # Select top half\n",
    "\n",
    "        # Crossover and Mutation\n",
    "        while len(next_gen) < pop_size:\n",
    "            parent1, parent2 = random.sample(next_gen, 2)\n",
    "            child = crossover(parent1, parent2)\n",
    "            if random.random() < 0.1:  # Mutation probability\n",
    "                child = mutate(child)\n",
    "            next_gen.append(child)\n",
    "\n",
    "        population = next_gen\n",
    "\n",
    "    # Return the best solution\n",
    "    best_chromosome = population[0]\n",
    "    best_makespan, best_schedule = calculate_schedule(best_chromosome, jobs, machines, processing_times)\n",
    "    return best_chromosome, best_makespan, best_schedule\n",
    "\n",
    "# Run the Genetic Algorithm with ML\n",
    "best_solution_ml, best_makespan_ml, best_schedule_ml = genetic_algorithm_with_ml(\n",
    "    pop_size=20,\n",
    "    generations=50,\n",
    "    jobs=jobs,\n",
    "    machines=machines,\n",
    "    processing_times=processing_times,\n",
    "    model=model\n",
    ")\n",
    "\n",
    "print(\"Best Makespan with ML:\", best_makespan_ml)\n",
    "best_schedule_ml\n",
    "    "
   ]
  },
  {
   "cell_type": "markdown",
   "id": "e436bfa4",
   "metadata": {},
   "source": [
    "### Step 6: Visualize the Results with a Gantt Chart (Using ML)"
   ]
  },
  {
   "cell_type": "code",
   "execution_count": 7,
   "id": "f6a60daf",
   "metadata": {},
   "outputs": [
    {
     "data": {
      "image/png": "[encoded data removed]",
      "text/plain": [
       "<Figure size 1000x600 with 1 Axes>"
      ]
     },
     "metadata": {},
     "output_type": "display_data"
    }
   ],
   "source": [
    "# Plot Gantt Chart for the solution using ML\n",
    "fig, ax = plt.subplots(figsize=(10, 6))\n",
    "\n",
    "for job, machine, start, end in best_schedule_ml:\n",
    "    ax.broken_barh([(start, end - start)], (machine * 10, 9), facecolors=f'C{job}')\n",
    "\n",
    "ax.set_xlabel('Time')\n",
    "ax.set_ylabel('Machine')\n",
    "ax.set_yticks([i * 10 + 5 for i in range(machines)])\n",
    "ax.set_yticklabels([f'Machine {i}' for i in range(machines)])\n",
    "ax.set_title('Gantt Chart for Job-Shop Schedule (Using ML)')\n",
    "plt.show()\n",
    "    "
   ]
  }
 ],
 "metadata": {
  "kernelspec": {
   "display_name": "TenserFlow",
   "language": "python",
   "name": "python3"
  },
  "language_info": {
   "codemirror_mode": {
    "name": "ipython",
    "version": 3
   },
   "file_extension": ".py",
   "mimetype": "text/x-python",
   "name": "python",
   "nbconvert_exporter": "python",
   "pygments_lexer": "ipython3",
   "version": "3.10.13"
  }
 },
 "nbformat": 4,
 "nbformat_minor": 5
}
